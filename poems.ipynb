{
  "nbformat": 4,
  "nbformat_minor": 0,
  "metadata": {
    "colab": {
      "provenance": [],
      "collapsed_sections": [
        "ckAKLXDBzFJk"
      ],
      "gpuType": "T4",
      "authorship_tag": "ABX9TyNA5Gg0DqYut95voRTVvIu8",
      "include_colab_link": true
    },
    "kernelspec": {
      "name": "python3",
      "display_name": "Python 3"
    },
    "language_info": {
      "name": "python"
    },
    "accelerator": "GPU"
  },
  "cells": [
    {
      "cell_type": "markdown",
      "metadata": {
        "id": "view-in-github",
        "colab_type": "text"
      },
      "source": [
        "<a href=\"https://colab.research.google.com/github/alako/gpt/blob/main/poems.ipynb\" target=\"_parent\"><img src=\"https://colab.research.google.com/assets/colab-badge.svg\" alt=\"Open In Colab\"/></a>"
      ]
    },
    {
      "cell_type": "markdown",
      "source": [
        "## Prepare data"
      ],
      "metadata": {
        "id": "GuvssMFTHAUW"
      }
    },
    {
      "cell_type": "code",
      "execution_count": 1,
      "metadata": {
        "id": "DjcfYHC3E4Ls"
      },
      "outputs": [],
      "source": [
        "import torch\n",
        "import torch.nn as nn\n",
        "from torch.nn import functional as F"
      ]
    },
    {
      "cell_type": "markdown",
      "source": [
        "### Data cleaning"
      ],
      "metadata": {
        "id": "5fp1zi_fTKkh"
      }
    },
    {
      "cell_type": "code",
      "source": [
        "with open('polish_poems.txt', 'r', encoding='utf-8') as f:\n",
        "    text = f.read()\n",
        "\n",
        "\n",
        "# here are all the unique characters that occur in this text\n",
        "chars = sorted(list(set(text)))\n",
        "vocab_size = len(chars)"
      ],
      "metadata": {
        "id": "1gCNL5FRFFdo"
      },
      "execution_count": 105,
      "outputs": []
    },
    {
      "cell_type": "code",
      "source": [
        "print(chars)\n",
        "print(vocab_size)"
      ],
      "metadata": {
        "colab": {
          "base_uri": "https://localhost:8080/"
        },
        "id": "44TbIZ1WFNyy",
        "outputId": "3dfcb965-22d4-487f-f062-4c7ee89e3efd"
      },
      "execution_count": 106,
      "outputs": [
        {
          "output_type": "stream",
          "name": "stdout",
          "text": [
            "['\\t', '\\n', ' ', '!', '\"', \"'\", ',', '-', '.', '0', '1', '2', '3', '4', '5', '6', '7', '8', '9', ':', ';', '?', 'A', 'B', 'C', 'D', 'E', 'F', 'G', 'H', 'I', 'J', 'K', 'L', 'M', 'N', 'O', 'P', 'Q', 'R', 'S', 'T', 'U', 'V', 'W', 'X', 'Y', 'Z', '\\\\', 'a', 'b', 'c', 'd', 'e', 'f', 'g', 'h', 'i', 'j', 'k', 'l', 'm', 'n', 'o', 'p', 'q', 'r', 's', 't', 'u', 'v', 'w', 'x', 'y', 'z', '\\x7f', '\\x84', '\\x92', '\\x95', '\\x96', '\\x9f', '§', '\\xad', '°', '·', '¼', 'Ä', 'É', 'Ï', 'Ó', '×', 'ß', 'à', 'á', 'â', 'ä', 'æ', 'ç', 'è', 'é', 'ê', 'ë', 'í', 'î', 'ï', 'ñ', 'ò', 'ó', 'ô', 'ö', 'ù', 'ú', 'û', 'ü', 'ý', 'ă', 'Ą', 'ą', 'Ć', 'ć', 'ċ', 'Č', 'č', 'ė', 'Ę', 'ę', 'ě', 'ĺ', 'Ľ', 'Ł', 'ł', 'Ń', 'ń', 'Ň', 'œ', 'ř', 'Ś', 'ś', 'ş', 'š', 'Ť', 'ť', 'ū', 'Ź', 'ź', 'Ż', 'ż', 'Ž', 'ž', 'ſ', 'ǃ', 'ə', 'ˇ', '̨', 'Ε', 'ά', 'ή', 'β', 'γ', 'δ', 'ε', 'ζ', 'η', 'θ', 'ι', 'κ', 'λ', 'μ', 'ν', 'ο', 'ρ', 'ς', 'τ', 'υ', 'χ', 'ω', 'А', 'В', 'О', 'С', 'Т', 'Ф', 'а', 'б', 'в', 'е', 'и', 'й', 'к', 'л', 'м', 'н', 'о', 'п', 'р', 'с', 'у', 'ц', 'ь', 'ю', 'я', 'і', 'ї', 'ґ', 'ա', 'ե', 'հ', 'յ', 'ն', 'ր', 'ִ', 'ב', 'ד', 'י', 'ע', 'ר', 'ש', 'ת', 'ا', 'ب', 'ة', 'ر', 'س', 'ع', 'ف', 'ل', 'ي', 'ی', 'অ', 'ম', 'য', 'স', '়', 'া', 'ী', 'ಕ', 'ಡ', 'ನ', '್', 'ạ', 'ế', 'ệ', 'ọ', '\\u2002', '\\u2003', '‑', '‒', '–', '—', '―', '‘', '’', '†', '•', '…', '‹', '›', '✽', '中', '文', '日', '本', '語', '국', '어', '한']\n",
            "266\n",
            "tensor([ 40,  69,  59,  57,  53,  62,  59, 125,   2,  61])\n"
          ]
        }
      ]
    },
    {
      "cell_type": "code",
      "source": [
        "counts = {c: 0 for c in chars}\n",
        "for s in text:\n",
        "  counts[s] += 1\n",
        "sorted_counts = dict(sorted(counts.items(), key=lambda item: -item[1]))\n",
        "print(sorted_counts)"
      ],
      "metadata": {
        "colab": {
          "base_uri": "https://localhost:8080/"
        },
        "id": "VfAWJctYHi9j",
        "outputId": "f7aedaa2-2607-4b39-c3f0-963980f929bd"
      },
      "execution_count": 107,
      "outputs": [
        {
          "output_type": "stream",
          "name": "stdout",
          "text": [
            "{' ': 3802477, 'i': 1846927, 'a': 1720518, 'e': 1665847, 'o': 1374117, 'z': 1278910, 'n': 1001863, 'c': 896426, 'r': 889680, 's': 875419, 'w': 840943, 'y': 817039, '\\n': 772895, 't': 688574, 'm': 687569, 'd': 672915, 'k': 643641, 'ł': 534310, ',': 530446, 'p': 473874, 'u': 439373, 'j': 430190, 'l': 389449, 'ę': 339355, 'b': 329027, 'g': 292754, 'ą': 285621, '.': 281838, 'h': 268230, 'ś': 212145, 'ż': 200165, 'ó': 179343, 'ć': 107779, '!': 84852, 'P': 71868, 'W': 70361, 'I': 67173, '—': 64218, 'N': 62745, 'A': 57070, 'T': 53165, 'ń': 51110, 'C': 50477, 'S': 47016, 'Z': 46334, 'J': 44806, 'B': 43638, 'O': 39246, 'K': 37590, ';': 34633, 'M': 33110, ':': 32205, 'D': 31244, '-': 30810, '?': 30710, 'G': 25994, 'f': 25180, 'ź': 23681, 'L': 23465, 'R': 18541, 'Ż': 14972, '\"': 12303, 'é': 11392, 'U': 9809, 'Ś': 7996, 'H': 7235, 'E': 6759, '–': 4949, 'F': 3546, '1': 3347, 'Ł': 3333, '…': 2169, 'Y': 1846, '5': 1676, 'v': 1591, '2': 1514, '0': 1346, 'X': 1340, 'q': 1147, 'V': 1125, '3': 1057, '8': 948, '4': 926, '9': 890, 'Ę': 696, '\\xad': 660, '6': 655, 'Ó': 618, 'x': 582, 'Ń': 582, '7': 576, \"'\": 388, 'Ź': 382, '’': 380, 'Ą': 331, 'ſ': 313, 'Ć': 238, '\\\\': 170, '\\u2002': 148, 'с': 145, 'Q': 132, '‑': 89, 'к': 83, 'р': 82, '\\t': 73, 'у': 70, 'ü': 59, 'и': 54, 'о': 50, 'й': 47, 'á': 45, 'è': 44, 'а': 42, 'Ľ': 38, 'ç': 31, 'ö': 31, 'à': 28, 'ï': 27, 'ä': 26, '‒': 23, '‘': 23, '•': 21, 'č': 20, 'É': 16, 'е': 16, 'ô': 14, '\\x84': 13, 'ò': 13, 'Ť': 13, 'š': 11, 'н': 11, 'â': 10, 'ǃ': 10, 'В': 10, 'ь': 10, 'ї': 10, '×': 9, 'ê': 9, 'ñ': 9, 'б': 9, 'л': 9, 'я': 9, 'ť': 8, 'С': 7, 'Т': 7, 'п': 7, 'î': 6, 'ă': 6, 'Ž': 6, '̨': 6, '†': 6, 'æ': 5, 'ú': 5, 'η': 5, 'μ': 5, 'А': 5, '·': 4, 'ν': 4, 'ե': 4, 'י': 4, '✽': 4, 'ë': 3, 'ž': 3, 'ε': 3, 'ι': 3, 'ο': 3, 'ا': 3, 'ر': 3, 'ế': 3, 'ệ': 3, '\\x95': 2, '\\x96': 2, '°': 2, 'Ä': 2, 'í': 2, 'ė': 2, 'ě': 2, 'œ': 2, 'ə': 2, 'γ': 2, 'κ': 2, 'λ': 2, 'ς': 2, 'τ': 2, 'χ': 2, 'О': 2, 'м': 2, 'ц': 2, 'ա': 2, 'հ': 2, 'յ': 2, 'ն': 2, 'ր': 2, 'س': 2, 'ف': 2, 'ی': 2, 'ನ': 2, 'ạ': 2, '中': 2, '文': 2, '국': 2, '어': 2, '한': 2, '\\x7f': 1, '\\x92': 1, '\\x9f': 1, '§': 1, '¼': 1, 'Ï': 1, 'ß': 1, 'ù': 1, 'û': 1, 'ý': 1, 'ċ': 1, 'Č': 1, 'ĺ': 1, 'Ň': 1, 'ř': 1, 'ş': 1, 'ū': 1, 'ˇ': 1, 'Ε': 1, 'ά': 1, 'ή': 1, 'β': 1, 'δ': 1, 'ζ': 1, 'θ': 1, 'ρ': 1, 'υ': 1, 'ω': 1, 'Ф': 1, 'в': 1, 'ю': 1, 'і': 1, 'ґ': 1, 'ִ': 1, 'ב': 1, 'ד': 1, 'ע': 1, 'ר': 1, 'ש': 1, 'ת': 1, 'ب': 1, 'ة': 1, 'ع': 1, 'ل': 1, 'ي': 1, 'অ': 1, 'ম': 1, 'য': 1, 'স': 1, '়': 1, 'া': 1, 'ী': 1, 'ಕ': 1, 'ಡ': 1, '್': 1, 'ọ': 1, '\\u2003': 1, '―': 1, '‹': 1, '›': 1, '日': 1, '本': 1, '語': 1}\n"
          ]
        }
      ]
    },
    {
      "cell_type": "code",
      "source": [
        "garbage = [k for k, v in sorted_counts.items() if v<=200]\n",
        "print(garbage)\n",
        "garbage = {g: ' ' for g in garbage}"
      ],
      "metadata": {
        "colab": {
          "base_uri": "https://localhost:8080/"
        },
        "id": "jI6t8KRHMwca",
        "outputId": "e6285475-292d-44eb-9303-9c823ce3cf20"
      },
      "execution_count": 108,
      "outputs": [
        {
          "output_type": "stream",
          "name": "stdout",
          "text": [
            "['\\\\', '\\u2002', 'с', 'Q', '‑', 'к', 'р', '\\t', 'у', 'ü', 'и', 'о', 'й', 'á', 'è', 'а', 'Ľ', 'ç', 'ö', 'à', 'ï', 'ä', '‒', '‘', '•', 'č', 'É', 'е', 'ô', '\\x84', 'ò', 'Ť', 'š', 'н', 'â', 'ǃ', 'В', 'ь', 'ї', '×', 'ê', 'ñ', 'б', 'л', 'я', 'ť', 'С', 'Т', 'п', 'î', 'ă', 'Ž', '̨', '†', 'æ', 'ú', 'η', 'μ', 'А', '·', 'ν', 'ե', 'י', '✽', 'ë', 'ž', 'ε', 'ι', 'ο', 'ا', 'ر', 'ế', 'ệ', '\\x95', '\\x96', '°', 'Ä', 'í', 'ė', 'ě', 'œ', 'ə', 'γ', 'κ', 'λ', 'ς', 'τ', 'χ', 'О', 'м', 'ц', 'ա', 'հ', 'յ', 'ն', 'ր', 'س', 'ف', 'ی', 'ನ', 'ạ', '中', '文', '국', '어', '한', '\\x7f', '\\x92', '\\x9f', '§', '¼', 'Ï', 'ß', 'ù', 'û', 'ý', 'ċ', 'Č', 'ĺ', 'Ň', 'ř', 'ş', 'ū', 'ˇ', 'Ε', 'ά', 'ή', 'β', 'δ', 'ζ', 'θ', 'ρ', 'υ', 'ω', 'Ф', 'в', 'ю', 'і', 'ґ', 'ִ', 'ב', 'ד', 'ע', 'ר', 'ש', 'ת', 'ب', 'ة', 'ع', 'ل', 'ي', 'অ', 'ম', 'য', 'স', '়', 'া', 'ী', 'ಕ', 'ಡ', '್', 'ọ', '\\u2003', '―', '‹', '›', '日', '本', '語']\n"
          ]
        }
      ]
    },
    {
      "cell_type": "code",
      "source": [
        "filtered = {key: value for key, value in sorted_counts.items() if value > 200}"
      ],
      "metadata": {
        "id": "g2FaLOI3FTFN"
      },
      "execution_count": 109,
      "outputs": []
    },
    {
      "cell_type": "code",
      "source": [
        "print(sorted(list(filtered.keys())))\n",
        "print(len(filtered))"
      ],
      "metadata": {
        "colab": {
          "base_uri": "https://localhost:8080/"
        },
        "id": "00JteUe9KA1f",
        "outputId": "4d028c37-1601-47dc-c3b3-a3fa95e48b02"
      },
      "execution_count": 110,
      "outputs": [
        {
          "output_type": "stream",
          "name": "stdout",
          "text": [
            "['\\n', ' ', '!', '\"', \"'\", ',', '-', '.', '0', '1', '2', '3', '4', '5', '6', '7', '8', '9', ':', ';', '?', 'A', 'B', 'C', 'D', 'E', 'F', 'G', 'H', 'I', 'J', 'K', 'L', 'M', 'N', 'O', 'P', 'R', 'S', 'T', 'U', 'V', 'W', 'X', 'Y', 'Z', 'a', 'b', 'c', 'd', 'e', 'f', 'g', 'h', 'i', 'j', 'k', 'l', 'm', 'n', 'o', 'p', 'q', 'r', 's', 't', 'u', 'v', 'w', 'x', 'y', 'z', '\\xad', 'Ó', 'é', 'ó', 'Ą', 'ą', 'Ć', 'ć', 'Ę', 'ę', 'Ł', 'ł', 'Ń', 'ń', 'Ś', 'ś', 'Ź', 'ź', 'Ż', 'ż', 'ſ', '–', '—', '’', '…']\n",
            "97\n"
          ]
        }
      ]
    },
    {
      "cell_type": "code",
      "source": [
        "mod = {'\\xad': '-', \"'\" : '\"', 'é': 'e', 'ſ': 's', '–': '-', '—': '-', '…': ' '}\n",
        "mod.update(garbage)"
      ],
      "metadata": {
        "id": "FO6ugP6GPUZH"
      },
      "execution_count": 111,
      "outputs": []
    },
    {
      "cell_type": "code",
      "source": [
        "c = [index for index, char in enumerate(text) if char == '…']\n",
        "print(len(c))\n",
        "c[:5]"
      ],
      "metadata": {
        "colab": {
          "base_uri": "https://localhost:8080/"
        },
        "id": "vq2Uua78MmMz",
        "outputId": "448549bb-a3f0-4ed8-9f02-dd097d7c9e9f"
      },
      "execution_count": 112,
      "outputs": [
        {
          "output_type": "stream",
          "name": "stdout",
          "text": [
            "2169\n"
          ]
        },
        {
          "output_type": "execute_result",
          "data": {
            "text/plain": [
              "[93116, 93278, 93430, 93589, 94185]"
            ]
          },
          "metadata": {},
          "execution_count": 112
        }
      ]
    },
    {
      "cell_type": "code",
      "source": [
        "for ix in c[:5]:\n",
        "  print(f'*<*{text[ix-10:ix+10]}*>*')"
      ],
      "metadata": {
        "colab": {
          "base_uri": "https://localhost:8080/"
        },
        "id": "Bl0SjjHbNa3t",
        "outputId": "ee8504f0-79a7-4c32-bd3a-507314dadbcd"
      },
      "execution_count": 113,
      "outputs": [
        {
          "output_type": "stream",
          "name": "stdout",
          "text": [
            "*<* nadzieję!… nie tę l*>*\n",
            "*<* nadzieję!… nie tę c*>*\n",
            "*<*my odwagę!… nie tę j*>*\n",
            "*<*my odwagę!… nie tę t*>*\n",
            "*<*się zbroić…\n",
            "Lecz nie*>*\n"
          ]
        }
      ]
    },
    {
      "cell_type": "code",
      "source": [
        "text = ''.join([mod[c] if c in mod else c for c in text])\n",
        "chars = sorted(list(set(text)))\n",
        "vocab_size = len(chars)\n",
        "print(chars)\n",
        "print(vocab_size)"
      ],
      "metadata": {
        "colab": {
          "base_uri": "https://localhost:8080/"
        },
        "id": "MR7D6Q8SRPKO",
        "outputId": "19f43f7e-47c9-4290-8d3a-6f934a310600"
      },
      "execution_count": 114,
      "outputs": [
        {
          "output_type": "stream",
          "name": "stdout",
          "text": [
            "['\\n', ' ', '!', '\"', ',', '-', '.', '0', '1', '2', '3', '4', '5', '6', '7', '8', '9', ':', ';', '?', 'A', 'B', 'C', 'D', 'E', 'F', 'G', 'H', 'I', 'J', 'K', 'L', 'M', 'N', 'O', 'P', 'R', 'S', 'T', 'U', 'V', 'W', 'X', 'Y', 'Z', 'a', 'b', 'c', 'd', 'e', 'f', 'g', 'h', 'i', 'j', 'k', 'l', 'm', 'n', 'o', 'p', 'q', 'r', 's', 't', 'u', 'v', 'w', 'x', 'y', 'z', 'Ó', 'ó', 'Ą', 'ą', 'Ć', 'ć', 'Ę', 'ę', 'Ł', 'ł', 'Ń', 'ń', 'Ś', 'ś', 'Ź', 'ź', 'Ż', 'ż', '’']\n",
            "90\n"
          ]
        }
      ]
    },
    {
      "cell_type": "markdown",
      "source": [
        "### Prepare training set"
      ],
      "metadata": {
        "id": "bsmIyIZSTRBf"
      }
    },
    {
      "cell_type": "code",
      "source": [
        "print(text[:100])"
      ],
      "metadata": {
        "colab": {
          "base_uri": "https://localhost:8080/"
        },
        "id": "3RFG3mFBTd-T",
        "outputId": "f56433fd-b83d-429b-a906-56a2668c0c8d"
      },
      "execution_count": 115,
      "outputs": [
        {
          "output_type": "stream",
          "name": "stdout",
          "text": [
            "Sukienkę miała w paseczki \n",
            "Perkalikową, \n",
            "We włosach polne kwiateczki, \n",
            "Twarzyczkę zawsze różową; \n",
            "Ni\n"
          ]
        }
      ]
    },
    {
      "cell_type": "code",
      "source": [
        "len(text)"
      ],
      "metadata": {
        "colab": {
          "base_uri": "https://localhost:8080/"
        },
        "id": "3f_KSvH1VDWN",
        "outputId": "07a05e89-a5b3-4b8d-bae5-e80a6c8c35b8"
      },
      "execution_count": 116,
      "outputs": [
        {
          "output_type": "execute_result",
          "data": {
            "text/plain": [
              "27082590"
            ]
          },
          "metadata": {},
          "execution_count": 116
        }
      ]
    },
    {
      "cell_type": "code",
      "source": [
        "import re\n",
        "text = re.sub(' +', ' ', text)\n",
        "print(text[:100])\n",
        "print(len(text))"
      ],
      "metadata": {
        "colab": {
          "base_uri": "https://localhost:8080/"
        },
        "id": "APCFSwBfUT_D",
        "outputId": "3a1a8485-e4cb-4edd-8620-0c5bb241af0a"
      },
      "execution_count": 117,
      "outputs": [
        {
          "output_type": "stream",
          "name": "stdout",
          "text": [
            "Sukienkę miała w paseczki \n",
            "Perkalikową, \n",
            "We włosach polne kwiateczki, \n",
            "Twarzyczkę zawsze różową; \n",
            "Ni\n",
            "27080306\n"
          ]
        }
      ]
    },
    {
      "cell_type": "code",
      "source": [
        "# create a mapping from characters to integers\n",
        "stoi = { ch:i for i,ch in enumerate(chars) }\n",
        "itos = { i:ch for i,ch in enumerate(chars) }\n",
        "encode = lambda s: [stoi[c] for c in s] # encoder: take a string, output a list of integers\n",
        "decode = lambda l: ''.join([itos[i] for i in l]) # decoder: take a list of integers, output a string\n",
        "\n",
        "# Train and test splits\n",
        "data = torch.tensor(encode(text), dtype=torch.long)\n",
        "n = int(0.9*len(data)) # first 90% will be train, rest val\n",
        "train_data = data[:n]\n",
        "val_data = data[n:]"
      ],
      "metadata": {
        "id": "_4p1skz9SVQB"
      },
      "execution_count": 118,
      "outputs": []
    },
    {
      "cell_type": "code",
      "source": [
        "train_data[:10]"
      ],
      "metadata": {
        "colab": {
          "base_uri": "https://localhost:8080/"
        },
        "id": "0H02sfG_XJen",
        "outputId": "84c66e3d-d1b5-4fc4-b339-a9dff300f5ef"
      },
      "execution_count": 119,
      "outputs": [
        {
          "output_type": "execute_result",
          "data": {
            "text/plain": [
              "tensor([37, 65, 55, 53, 49, 58, 55, 78,  1, 57])"
            ]
          },
          "metadata": {},
          "execution_count": 119
        }
      ]
    },
    {
      "cell_type": "markdown",
      "source": [
        "## Model definition"
      ],
      "metadata": {
        "id": "K93ucz0rGsH6"
      }
    },
    {
      "cell_type": "code",
      "source": [
        "# hyperparameters\n",
        "batch_size = 64 # 16 # how many independent sequences will we process in parallel?\n",
        "block_size = 256 #32 # what is the maximum context length for predictions?\n",
        "max_iters = 5000\n",
        "eval_interval = 500 #100\n",
        "learning_rate = 3e-4 #1e-3\n",
        "device = 'cuda' if torch.cuda.is_available() else 'cpu'\n",
        "eval_iters = 200\n",
        "n_embd = 384 #64\n",
        "n_head = 6 #4\n",
        "n_layer = 6 #4\n",
        "dropout = 0.2 # 0.0\n",
        "# batch_size = 16 # how many independent sequences will we process in parallel?\n",
        "# block_size = 32 # what is the maximum context length for predictions?\n",
        "# max_iters = 5000\n",
        "# eval_interval = 100\n",
        "# learning_rate = 1e-3\n",
        "# device = 'cuda' if torch.cuda.is_available() else 'cpu'\n",
        "# eval_iters = 200\n",
        "# n_embd = 64\n",
        "# n_head = 4\n",
        "# n_layer = 4\n",
        "# dropout = 0.0\n",
        "# ------------\n",
        "\n",
        "# data loading\n",
        "def get_batch(split):\n",
        "    # generate a small batch of data of inputs x and targets y\n",
        "    data = train_data if split == 'train' else val_data\n",
        "    ix = torch.randint(len(data) - block_size, (batch_size,))\n",
        "    x = torch.stack([data[i:i+block_size] for i in ix])\n",
        "    y = torch.stack([data[i+1:i+block_size+1] for i in ix])\n",
        "    x, y = x.to(device), y.to(device)\n",
        "    return x, y\n",
        "\n",
        "@torch.no_grad()\n",
        "def estimate_loss():\n",
        "    out = {}\n",
        "    model.eval() # set to eval mode\n",
        "    for split in ['train', 'val']:\n",
        "        losses = torch.zeros(eval_iters)\n",
        "        for k in range(eval_iters):\n",
        "            X, Y = get_batch(split)\n",
        "            logits, loss = model(X, Y)\n",
        "            losses[k] = loss.item()\n",
        "        out[split] = losses.mean()\n",
        "    model.train()\n",
        "    return out\n",
        "\n",
        "class Heads(nn.Module):\n",
        "    \"\"\" multiple heads of self-attention \"\"\"\n",
        "\n",
        "    def __init__(self, num_heads, head_size):\n",
        "        super().__init__()\n",
        "        self.keys = nn.Linear(n_embd, num_heads * head_size, bias=False)\n",
        "        self.queries = nn.Linear(n_embd, num_heads * head_size, bias=False)\n",
        "        self.values = nn.Linear(n_embd, num_heads * head_size, bias=False)\n",
        "        self.register_buffer('tril', torch.tril(torch.ones(block_size, block_size)))\n",
        "        self.dropout_attn = nn.Dropout(dropout)\n",
        "        self.dropout_resid = nn.Dropout(dropout)\n",
        "        self.proj = nn.Linear(n_embd, n_embd) # needed for residual connection (to come back)\n",
        "        self.nh = num_heads\n",
        "        self.hs = head_size\n",
        "\n",
        "    def forward(self, x):\n",
        "        B, T, C = x.size() # batch size, sequence length, embedding dimensionality (n_embd)\n",
        "        # C = nh*hs\n",
        "        k = self.keys(x)   # (B, T, nh*hs)\n",
        "        q = self.queries(x)   # (B, T, nh*hs)\n",
        "        v = self.values(x)   # (B, T, nh*hs)\n",
        "        k = k.view(B, T, self.nh, self.hs).transpose(1,2) # (B, nh, T, hs)\n",
        "        q = q.view(B, T, self.nh, self.hs).transpose(1,2) # (B, nh, T, hs)\n",
        "        v = v.view(B, T, self.nh, self.hs).transpose(1,2) # (B, nh, T, hs)\n",
        "        # compute attention scores (\"affinities\")\n",
        "        wei = q @ k.transpose(-2,-1) * C**-0.5 # (B, nh, T, hs) @ (B, nh, hs, T) -> (B, nh, T, T)\n",
        "        wei = wei.masked_fill(self.tril[:T, :T] == 0, float('-inf')) # (B, nh, T, T)\n",
        "        wei = F.softmax(wei, dim=-1) # (B, nh, T, T)\n",
        "        wei = self.dropout_attn(wei)\n",
        "        # perform the weighted aggregation of the values\n",
        "        out = wei @ v # (B, nh, T, T) @ (B, nh, T, hs) -> (B, nh, T, hs) [16, 4, 32, 16]\n",
        "        out = out.transpose(1,2).contiguous().view(B,T,self.nh*self.hs) # (B, nh, T, hs)->(B, T, nh, hs)->(B, T, nh*hs)\n",
        "        out = self.dropout_resid(self.proj(out))\n",
        "        return out\n",
        "\n",
        "\n",
        "class FeedFoward(nn.Module):\n",
        "    \"\"\" a simple linear layer followed by a non-linearity \"\"\"\n",
        "\n",
        "    def __init__(self, n_embd):\n",
        "        super().__init__()\n",
        "        self.net = nn.Sequential(\n",
        "            nn.Linear(n_embd, 4 * n_embd),\n",
        "            nn.ReLU(),\n",
        "            nn.Linear(4 * n_embd, n_embd),\n",
        "            nn.Dropout(dropout),\n",
        "        )\n",
        "\n",
        "    def forward(self, x):\n",
        "        return self.net(x)\n",
        "\n",
        "class Block(nn.Module):\n",
        "    \"\"\" Transformer block: communication followed by computation \"\"\"\n",
        "\n",
        "    def __init__(self, n_embd, n_head):\n",
        "        # n_embd: embedding dimension, n_head: the number of heads we'd like\n",
        "        super().__init__()\n",
        "        head_size = n_embd // n_head\n",
        "        # self.sa = MultiHeadAttention(n_head, head_size)\n",
        "        self.sa = Heads(n_head, head_size)\n",
        "        self.ffwd = FeedFoward(n_embd)\n",
        "        self.ln1 = nn.LayerNorm(n_embd)\n",
        "        self.ln2 = nn.LayerNorm(n_embd)\n",
        "\n",
        "    def forward(self, x):\n",
        "        # residual connections x+ --> allows to propagate gradient!\n",
        "        x = x + self.sa(self.ln1(x))\n",
        "        x = x + self.ffwd(self.ln2(x))\n",
        "        return x\n",
        "\n",
        "\n",
        "class GPTModel(nn.Module):\n",
        "\n",
        "    def __init__(self):\n",
        "        super().__init__()\n",
        "        self.token_embedding_table = nn.Embedding(vocab_size, n_embd)\n",
        "        self.position_embedding_table = nn.Embedding(block_size, n_embd)\n",
        "        self.blocks = nn.Sequential(*[Block(n_embd, n_head=n_head) for _ in range(n_layer)])\n",
        "        self.ln_f = nn.LayerNorm(n_embd) # final layer norm\n",
        "        self.lm_head = nn.Linear(n_embd, vocab_size)\n",
        "\n",
        "    def forward(self, idx, targets=None):\n",
        "        B, T = idx.shape\n",
        "\n",
        "        # idx and targets are both (B,T) tensor of integers\n",
        "        tok_emb = self.token_embedding_table(idx) # (B,T,C)\n",
        "        pos_emb = self.position_embedding_table(torch.arange(T, device=device)) # (T,C)\n",
        "        x = tok_emb + pos_emb # (B,T,C)\n",
        "        x = self.blocks(x) # (B,T,C)\n",
        "        x = self.ln_f(x) # (B,T,C)\n",
        "        logits = self.lm_head(x) # (B,T,vocab_size)\n",
        "\n",
        "        if targets is None:\n",
        "            loss = None\n",
        "        else:\n",
        "            B, T, C = logits.shape\n",
        "            logits = logits.view(B*T, C)\n",
        "            targets = targets.view(B*T)\n",
        "            loss = F.cross_entropy(logits, targets)\n",
        "\n",
        "        return logits, loss\n",
        "\n",
        "    def generate(self, idx, max_new_tokens):\n",
        "        # idx is (B, T) array of indices in the current context\n",
        "        for _ in range(max_new_tokens):\n",
        "            # crop idx to the last block_size tokens\n",
        "            idx_cond = idx[:, -block_size:]\n",
        "            # get the predictions\n",
        "            logits, loss = self(idx_cond)\n",
        "            # focus only on the last time step\n",
        "            logits = logits[:, -1, :] # becomes (B, C)\n",
        "            # apply softmax to get probabilities\n",
        "            probs = F.softmax(logits, dim=-1) # (B, C)\n",
        "            # sample from the distribution\n",
        "            idx_next = torch.multinomial(probs, num_samples=1) # (B, 1)\n",
        "            # append sampled index to the running sequence\n",
        "            idx = torch.cat((idx, idx_next), dim=1) # (B, T+1)\n",
        "        return idx"
      ],
      "metadata": {
        "id": "Jd7n1ZWqGJZY"
      },
      "execution_count": 125,
      "outputs": []
    },
    {
      "cell_type": "markdown",
      "source": [
        "## Train model"
      ],
      "metadata": {
        "id": "ckAKLXDBzFJk"
      }
    },
    {
      "cell_type": "code",
      "source": [
        "model = GPTModel()\n",
        "model = model.to(device)\n",
        "# print the number of parameters in the model\n",
        "print(sum(p.numel() for p in model.parameters())/1e6, 'M parameters')\n",
        "\n",
        "# create a PyTorch optimizer\n",
        "optimizer = torch.optim.AdamW(model.parameters(), lr=learning_rate)"
      ],
      "metadata": {
        "id": "EITarYqpzD__",
        "outputId": "60116afa-9eb4-4651-caef-565e2af7ff5f",
        "colab": {
          "base_uri": "https://localhost:8080/"
        }
      },
      "execution_count": 126,
      "outputs": [
        {
          "output_type": "stream",
          "name": "stdout",
          "text": [
            "10.808154 M parameters\n"
          ]
        }
      ]
    },
    {
      "cell_type": "code",
      "source": [
        "for iter in range(max_iters):\n",
        "\n",
        "    # every once in a while evaluate the loss on train and val sets\n",
        "    if iter % eval_interval == 0 or iter == max_iters - 1:\n",
        "        losses = estimate_loss()\n",
        "        print(f\"step {iter}: train loss {losses['train']:.4f}, val loss {losses['val']:.4f}\")\n",
        "\n",
        "    # sample a batch of data\n",
        "    xb, yb = get_batch('train')\n",
        "\n",
        "    # evaluate the loss\n",
        "    logits, loss = model(xb, yb)\n",
        "    optimizer.zero_grad(set_to_none=True)\n",
        "    loss.backward()\n",
        "    optimizer.step()\n",
        "\n",
        "# generate from the model\n",
        "context = torch.zeros((1, 1), dtype=torch.long, device=device)\n",
        "print(decode(model.generate(context, max_new_tokens=500)[0].tolist()))"
      ],
      "metadata": {
        "id": "9IvQrKZ30WK_",
        "outputId": "197ed82e-6a59-47f6-f171-e3b8b130ba28",
        "colab": {
          "base_uri": "https://localhost:8080/"
        }
      },
      "execution_count": 127,
      "outputs": [
        {
          "output_type": "stream",
          "name": "stdout",
          "text": [
            "step 0: train loss 4.6473, val loss 4.6498\n",
            "step 500: train loss 2.3785, val loss 2.4001\n",
            "step 1000: train loss 2.0576, val loss 2.0747\n",
            "step 1500: train loss 1.8914, val loss 1.8974\n",
            "step 2000: train loss 1.7897, val loss 1.7912\n",
            "step 2500: train loss 1.7212, val loss 1.7233\n",
            "step 3000: train loss 1.6686, val loss 1.6813\n",
            "step 3500: train loss 1.6365, val loss 1.6467\n",
            "step 4000: train loss 1.6150, val loss 1.6311\n",
            "step 4500: train loss 1.5902, val loss 1.6062\n",
            "step 4999: train loss 1.5740, val loss 1.5938\n",
            "\n",
            "Stać ze straszki mażeńszego umdem, wtedy sto mama w suknosiu, głosił snu tym, co pszczonopodołując mu wiatr, lub tam dziś to trzymasz wy cendare: \n",
            "Słów sam, krew do prawdy było na boskim polu chłopię, nie spodziane matre.\n",
            "W cichym ku sztukach miorzni drżał, gdy światom i strawy kurze po niemowie, zowieszakami Lewie take, \n",
            "Z uderzew wichle pchnął o rybach, a naszym czołem towarem, \n",
            "Iż się w im dzieło, o piersi! I izdą teraz strawy ubliska rumachy fal mowy krótkiem?\n",
            "Cóż to Francelby do mojej pętas\n"
          ]
        }
      ]
    },
    {
      "cell_type": "code",
      "source": [],
      "metadata": {
        "id": "rIn3A_oAENu7"
      },
      "execution_count": null,
      "outputs": []
    },
    {
      "cell_type": "code",
      "source": [],
      "metadata": {
        "id": "s6PHUfk5ERHr"
      },
      "execution_count": null,
      "outputs": []
    }
  ]
}